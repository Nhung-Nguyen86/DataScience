{
  "cells": [
    {
      "cell_type": "markdown",
      "metadata": {
        "id": "view-in-github",
        "colab_type": "text"
      },
      "source": [
        "<a href=\"https://colab.research.google.com/github/Nhung-Nguyen86/DataScience/blob/main/Yelp_Review_Analysis.ipynb\" target=\"_parent\"><img src=\"https://colab.research.google.com/assets/colab-badge.svg\" alt=\"Open In Colab\"/></a>"
      ]
    },
    {
      "cell_type": "markdown",
      "metadata": {
        "id": "lvmfBmqHYrqo"
      },
      "source": [
        "## Use Case: Yelp Review Analysis"
      ]
    },
    {
      "cell_type": "code",
      "execution_count": null,
      "metadata": {
        "id": "4A1pKaFdYrqu"
      },
      "outputs": [],
      "source": [
        "!pip install textblob"
      ]
    },
    {
      "cell_type": "code",
      "execution_count": null,
      "metadata": {
        "id": "dsBqxMChYrqw",
        "outputId": "c7795c2b-4d77-4402-f74e-6f60d8a8ad3f"
      },
      "outputs": [
        {
          "name": "stderr",
          "output_type": "stream",
          "text": [
            "C:\\Users\\ehsan\\Anaconda3\\lib\\site-packages\\pandas\\compat\\_optional.py:138: UserWarning: Pandas requires version '2.7.0' or newer of 'numexpr' (version '2.6.9' currently installed).\n",
            "  warnings.warn(msg, UserWarning)\n"
          ]
        }
      ],
      "source": [
        "import pandas as pd\n",
        "import numpy as np\n",
        "import scipy as sp\n",
        "from sklearn.model_selection import train_test_split\n",
        "from sklearn.feature_extraction.text import CountVectorizer, TfidfVectorizer\n",
        "from sklearn.naive_bayes import MultinomialNB\n",
        "from sklearn.linear_model import LogisticRegression\n",
        "from sklearn import metrics\n",
        "from textblob import TextBlob, Word\n",
        "from nltk.stem.snowball import SnowballStemmer\n",
        "%matplotlib inline"
      ]
    },
    {
      "cell_type": "code",
      "execution_count": null,
      "metadata": {
        "scrolled": true,
        "id": "VKnQgNejYrqx",
        "outputId": "c0d61b0a-cf7c-4aa2-ae3a-96b5a2302713"
      },
      "outputs": [
        {
          "data": {
            "text/html": [
              "<div>\n",
              "<style scoped>\n",
              "    .dataframe tbody tr th:only-of-type {\n",
              "        vertical-align: middle;\n",
              "    }\n",
              "\n",
              "    .dataframe tbody tr th {\n",
              "        vertical-align: top;\n",
              "    }\n",
              "\n",
              "    .dataframe thead th {\n",
              "        text-align: right;\n",
              "    }\n",
              "</style>\n",
              "<table border=\"1\" class=\"dataframe\">\n",
              "  <thead>\n",
              "    <tr style=\"text-align: right;\">\n",
              "      <th></th>\n",
              "      <th>business_id</th>\n",
              "      <th>date</th>\n",
              "      <th>review_id</th>\n",
              "      <th>stars</th>\n",
              "      <th>text</th>\n",
              "      <th>type</th>\n",
              "      <th>user_id</th>\n",
              "      <th>cool</th>\n",
              "      <th>useful</th>\n",
              "      <th>funny</th>\n",
              "    </tr>\n",
              "  </thead>\n",
              "  <tbody>\n",
              "    <tr>\n",
              "      <th>0</th>\n",
              "      <td>9yKzy9PApeiPPOUJEtnvkg</td>\n",
              "      <td>1/26/2011</td>\n",
              "      <td>fWKvX83p0-ka4JS3dc6E5A</td>\n",
              "      <td>5</td>\n",
              "      <td>My wife took me here on my birthday for breakf...</td>\n",
              "      <td>review</td>\n",
              "      <td>rLtl8ZkDX5vH5nAx9C3q5Q</td>\n",
              "      <td>2</td>\n",
              "      <td>5</td>\n",
              "      <td>0</td>\n",
              "    </tr>\n",
              "    <tr>\n",
              "      <th>1</th>\n",
              "      <td>ZRJwVLyzEJq1VAihDhYiow</td>\n",
              "      <td>7/27/2011</td>\n",
              "      <td>IjZ33sJrzXqU-0X6U8NwyA</td>\n",
              "      <td>5</td>\n",
              "      <td>I have no idea why some people give bad review...</td>\n",
              "      <td>review</td>\n",
              "      <td>0a2KyEL0d3Yb1V6aivbIuQ</td>\n",
              "      <td>0</td>\n",
              "      <td>0</td>\n",
              "      <td>0</td>\n",
              "    </tr>\n",
              "    <tr>\n",
              "      <th>2</th>\n",
              "      <td>6oRAC4uyJCsJl1X0WZpVSA</td>\n",
              "      <td>6/14/2012</td>\n",
              "      <td>IESLBzqUCLdSzSqm0eCSxQ</td>\n",
              "      <td>4</td>\n",
              "      <td>love the gyro plate. Rice is so good and I als...</td>\n",
              "      <td>review</td>\n",
              "      <td>0hT2KtfLiobPvh6cDC8JQg</td>\n",
              "      <td>0</td>\n",
              "      <td>1</td>\n",
              "      <td>0</td>\n",
              "    </tr>\n",
              "    <tr>\n",
              "      <th>3</th>\n",
              "      <td>_1QQZuf4zZOyFCvXc0o6Vg</td>\n",
              "      <td>5/27/2010</td>\n",
              "      <td>G-WvGaISbqqaMHlNnByodA</td>\n",
              "      <td>5</td>\n",
              "      <td>Rosie, Dakota, and I LOVE Chaparral Dog Park!!...</td>\n",
              "      <td>review</td>\n",
              "      <td>uZetl9T0NcROGOyFfughhg</td>\n",
              "      <td>1</td>\n",
              "      <td>2</td>\n",
              "      <td>0</td>\n",
              "    </tr>\n",
              "    <tr>\n",
              "      <th>4</th>\n",
              "      <td>6ozycU1RpktNG2-1BroVtw</td>\n",
              "      <td>1/5/2012</td>\n",
              "      <td>1uJFq2r5QfJG_6ExMRCaGw</td>\n",
              "      <td>5</td>\n",
              "      <td>General Manager Scott Petello is a good egg!!!...</td>\n",
              "      <td>review</td>\n",
              "      <td>vYmM4KTsC8ZfQBg-j5MWkw</td>\n",
              "      <td>0</td>\n",
              "      <td>0</td>\n",
              "      <td>0</td>\n",
              "    </tr>\n",
              "  </tbody>\n",
              "</table>\n",
              "</div>"
            ],
            "text/plain": [
              "              business_id       date               review_id  stars  \\\n",
              "0  9yKzy9PApeiPPOUJEtnvkg  1/26/2011  fWKvX83p0-ka4JS3dc6E5A      5   \n",
              "1  ZRJwVLyzEJq1VAihDhYiow  7/27/2011  IjZ33sJrzXqU-0X6U8NwyA      5   \n",
              "2  6oRAC4uyJCsJl1X0WZpVSA  6/14/2012  IESLBzqUCLdSzSqm0eCSxQ      4   \n",
              "3  _1QQZuf4zZOyFCvXc0o6Vg  5/27/2010  G-WvGaISbqqaMHlNnByodA      5   \n",
              "4  6ozycU1RpktNG2-1BroVtw   1/5/2012  1uJFq2r5QfJG_6ExMRCaGw      5   \n",
              "\n",
              "                                                text    type  \\\n",
              "0  My wife took me here on my birthday for breakf...  review   \n",
              "1  I have no idea why some people give bad review...  review   \n",
              "2  love the gyro plate. Rice is so good and I als...  review   \n",
              "3  Rosie, Dakota, and I LOVE Chaparral Dog Park!!...  review   \n",
              "4  General Manager Scott Petello is a good egg!!!...  review   \n",
              "\n",
              "                  user_id  cool  useful  funny  \n",
              "0  rLtl8ZkDX5vH5nAx9C3q5Q     2       5      0  \n",
              "1  0a2KyEL0d3Yb1V6aivbIuQ     0       0      0  \n",
              "2  0hT2KtfLiobPvh6cDC8JQg     0       1      0  \n",
              "3  uZetl9T0NcROGOyFfughhg     1       2      0  \n",
              "4  vYmM4KTsC8ZfQBg-j5MWkw     0       0      0  "
            ]
          },
          "execution_count": 3,
          "metadata": {},
          "output_type": "execute_result"
        }
      ],
      "source": [
        "yelp = pd.read_csv(r\"yelp.csv\")\n",
        "yelp.head()"
      ]
    },
    {
      "cell_type": "code",
      "execution_count": null,
      "metadata": {
        "id": "jxoVGuVNYrqy",
        "outputId": "67175d46-d4e8-4856-909d-87ab13b919d4"
      },
      "outputs": [
        {
          "name": "stdout",
          "output_type": "stream",
          "text": [
            "<class 'pandas.core.frame.DataFrame'>\n",
            "RangeIndex: 10000 entries, 0 to 9999\n",
            "Data columns (total 10 columns):\n",
            " #   Column       Non-Null Count  Dtype \n",
            "---  ------       --------------  ----- \n",
            " 0   business_id  10000 non-null  object\n",
            " 1   date         10000 non-null  object\n",
            " 2   review_id    10000 non-null  object\n",
            " 3   stars        10000 non-null  int64 \n",
            " 4   text         10000 non-null  object\n",
            " 5   type         10000 non-null  object\n",
            " 6   user_id      10000 non-null  object\n",
            " 7   cool         10000 non-null  int64 \n",
            " 8   useful       10000 non-null  int64 \n",
            " 9   funny        10000 non-null  int64 \n",
            "dtypes: int64(4), object(6)\n",
            "memory usage: 781.4+ KB\n"
          ]
        }
      ],
      "source": [
        "yelp.info()"
      ]
    },
    {
      "cell_type": "code",
      "execution_count": null,
      "metadata": {
        "id": "h2qoFT4QYrqy",
        "outputId": "026c5137-25ab-4889-aa63-d755d4bd3ad2"
      },
      "outputs": [
        {
          "data": {
            "text/html": [
              "<div>\n",
              "<style scoped>\n",
              "    .dataframe tbody tr th:only-of-type {\n",
              "        vertical-align: middle;\n",
              "    }\n",
              "\n",
              "    .dataframe tbody tr th {\n",
              "        vertical-align: top;\n",
              "    }\n",
              "\n",
              "    .dataframe thead th {\n",
              "        text-align: right;\n",
              "    }\n",
              "</style>\n",
              "<table border=\"1\" class=\"dataframe\">\n",
              "  <thead>\n",
              "    <tr style=\"text-align: right;\">\n",
              "      <th></th>\n",
              "      <th>stars</th>\n",
              "      <th>cool</th>\n",
              "      <th>useful</th>\n",
              "      <th>funny</th>\n",
              "    </tr>\n",
              "  </thead>\n",
              "  <tbody>\n",
              "    <tr>\n",
              "      <th>count</th>\n",
              "      <td>10000.000000</td>\n",
              "      <td>10000.000000</td>\n",
              "      <td>10000.000000</td>\n",
              "      <td>10000.000000</td>\n",
              "    </tr>\n",
              "    <tr>\n",
              "      <th>mean</th>\n",
              "      <td>3.777500</td>\n",
              "      <td>0.876800</td>\n",
              "      <td>1.409300</td>\n",
              "      <td>0.701300</td>\n",
              "    </tr>\n",
              "    <tr>\n",
              "      <th>std</th>\n",
              "      <td>1.214636</td>\n",
              "      <td>2.067861</td>\n",
              "      <td>2.336647</td>\n",
              "      <td>1.907942</td>\n",
              "    </tr>\n",
              "    <tr>\n",
              "      <th>min</th>\n",
              "      <td>1.000000</td>\n",
              "      <td>0.000000</td>\n",
              "      <td>0.000000</td>\n",
              "      <td>0.000000</td>\n",
              "    </tr>\n",
              "    <tr>\n",
              "      <th>25%</th>\n",
              "      <td>3.000000</td>\n",
              "      <td>0.000000</td>\n",
              "      <td>0.000000</td>\n",
              "      <td>0.000000</td>\n",
              "    </tr>\n",
              "    <tr>\n",
              "      <th>50%</th>\n",
              "      <td>4.000000</td>\n",
              "      <td>0.000000</td>\n",
              "      <td>1.000000</td>\n",
              "      <td>0.000000</td>\n",
              "    </tr>\n",
              "    <tr>\n",
              "      <th>75%</th>\n",
              "      <td>5.000000</td>\n",
              "      <td>1.000000</td>\n",
              "      <td>2.000000</td>\n",
              "      <td>1.000000</td>\n",
              "    </tr>\n",
              "    <tr>\n",
              "      <th>max</th>\n",
              "      <td>5.000000</td>\n",
              "      <td>77.000000</td>\n",
              "      <td>76.000000</td>\n",
              "      <td>57.000000</td>\n",
              "    </tr>\n",
              "  </tbody>\n",
              "</table>\n",
              "</div>"
            ],
            "text/plain": [
              "              stars          cool        useful         funny\n",
              "count  10000.000000  10000.000000  10000.000000  10000.000000\n",
              "mean       3.777500      0.876800      1.409300      0.701300\n",
              "std        1.214636      2.067861      2.336647      1.907942\n",
              "min        1.000000      0.000000      0.000000      0.000000\n",
              "25%        3.000000      0.000000      0.000000      0.000000\n",
              "50%        4.000000      0.000000      1.000000      0.000000\n",
              "75%        5.000000      1.000000      2.000000      1.000000\n",
              "max        5.000000     77.000000     76.000000     57.000000"
            ]
          },
          "execution_count": 5,
          "metadata": {},
          "output_type": "execute_result"
        }
      ],
      "source": [
        "yelp.describe()"
      ]
    },
    {
      "cell_type": "code",
      "execution_count": null,
      "metadata": {
        "id": "6vT_qFTlYrqz",
        "outputId": "aac85c36-0825-4da4-e2ab-5eb4f29e5f9f"
      },
      "outputs": [
        {
          "data": {
            "text/html": [
              "<div>\n",
              "<style scoped>\n",
              "    .dataframe tbody tr th:only-of-type {\n",
              "        vertical-align: middle;\n",
              "    }\n",
              "\n",
              "    .dataframe tbody tr th {\n",
              "        vertical-align: top;\n",
              "    }\n",
              "\n",
              "    .dataframe thead th {\n",
              "        text-align: right;\n",
              "    }\n",
              "</style>\n",
              "<table border=\"1\" class=\"dataframe\">\n",
              "  <thead>\n",
              "    <tr style=\"text-align: right;\">\n",
              "      <th></th>\n",
              "      <th>cool</th>\n",
              "      <th>useful</th>\n",
              "      <th>funny</th>\n",
              "    </tr>\n",
              "    <tr>\n",
              "      <th>stars</th>\n",
              "      <th></th>\n",
              "      <th></th>\n",
              "      <th></th>\n",
              "    </tr>\n",
              "  </thead>\n",
              "  <tbody>\n",
              "    <tr>\n",
              "      <th>1</th>\n",
              "      <td>0.576769</td>\n",
              "      <td>1.604806</td>\n",
              "      <td>1.056075</td>\n",
              "    </tr>\n",
              "    <tr>\n",
              "      <th>2</th>\n",
              "      <td>0.719525</td>\n",
              "      <td>1.563107</td>\n",
              "      <td>0.875944</td>\n",
              "    </tr>\n",
              "    <tr>\n",
              "      <th>3</th>\n",
              "      <td>0.788501</td>\n",
              "      <td>1.306639</td>\n",
              "      <td>0.694730</td>\n",
              "    </tr>\n",
              "    <tr>\n",
              "      <th>4</th>\n",
              "      <td>0.954623</td>\n",
              "      <td>1.395916</td>\n",
              "      <td>0.670448</td>\n",
              "    </tr>\n",
              "    <tr>\n",
              "      <th>5</th>\n",
              "      <td>0.944261</td>\n",
              "      <td>1.381780</td>\n",
              "      <td>0.608631</td>\n",
              "    </tr>\n",
              "  </tbody>\n",
              "</table>\n",
              "</div>"
            ],
            "text/plain": [
              "           cool    useful     funny\n",
              "stars                              \n",
              "1      0.576769  1.604806  1.056075\n",
              "2      0.719525  1.563107  0.875944\n",
              "3      0.788501  1.306639  0.694730\n",
              "4      0.954623  1.395916  0.670448\n",
              "5      0.944261  1.381780  0.608631"
            ]
          },
          "execution_count": 6,
          "metadata": {},
          "output_type": "execute_result"
        }
      ],
      "source": [
        "mean_by_group = yelp.groupby('stars').mean()\n",
        "mean_by_group"
      ]
    },
    {
      "cell_type": "code",
      "execution_count": null,
      "metadata": {
        "id": "vtn8-992Yrq0",
        "outputId": "ebb7bcda-61c9-48b3-f5cc-bfff436fef51"
      },
      "outputs": [
        {
          "data": {
            "text/html": [
              "<div>\n",
              "<style scoped>\n",
              "    .dataframe tbody tr th:only-of-type {\n",
              "        vertical-align: middle;\n",
              "    }\n",
              "\n",
              "    .dataframe tbody tr th {\n",
              "        vertical-align: top;\n",
              "    }\n",
              "\n",
              "    .dataframe thead th {\n",
              "        text-align: right;\n",
              "    }\n",
              "</style>\n",
              "<table border=\"1\" class=\"dataframe\">\n",
              "  <thead>\n",
              "    <tr style=\"text-align: right;\">\n",
              "      <th></th>\n",
              "      <th>cool</th>\n",
              "      <th>useful</th>\n",
              "      <th>funny</th>\n",
              "    </tr>\n",
              "  </thead>\n",
              "  <tbody>\n",
              "    <tr>\n",
              "      <th>cool</th>\n",
              "      <td>1.000000</td>\n",
              "      <td>-0.743329</td>\n",
              "      <td>-0.944939</td>\n",
              "    </tr>\n",
              "    <tr>\n",
              "      <th>useful</th>\n",
              "      <td>-0.743329</td>\n",
              "      <td>1.000000</td>\n",
              "      <td>0.894506</td>\n",
              "    </tr>\n",
              "    <tr>\n",
              "      <th>funny</th>\n",
              "      <td>-0.944939</td>\n",
              "      <td>0.894506</td>\n",
              "      <td>1.000000</td>\n",
              "    </tr>\n",
              "  </tbody>\n",
              "</table>\n",
              "</div>"
            ],
            "text/plain": [
              "            cool    useful     funny\n",
              "cool    1.000000 -0.743329 -0.944939\n",
              "useful -0.743329  1.000000  0.894506\n",
              "funny  -0.944939  0.894506  1.000000"
            ]
          },
          "execution_count": 7,
          "metadata": {},
          "output_type": "execute_result"
        }
      ],
      "source": [
        "mean_by_group.corr()"
      ]
    },
    {
      "cell_type": "code",
      "execution_count": null,
      "metadata": {
        "id": "ZCNX9Xc2Yrq0",
        "outputId": "56b9c111-51bb-41e3-9cd0-f82261f09a6f"
      },
      "outputs": [
        {
          "name": "stdout",
          "output_type": "stream",
          "text": [
            "(4086,)\n"
          ]
        }
      ],
      "source": [
        "#create a new DataFrame that only contains the 5-star and 1-star reviews\n",
        "yelp_best_worst = yelp[(yelp.stars==5) | (yelp.stars==1)]\n",
        "\n",
        "yelp_best_worst.reset_index(drop=True, inplace=True) # reset the indices. And instead of\n",
        "# creating another data frame, let's just do it inplace\n",
        "\n",
        "x = yelp_best_worst.text #reviews\n",
        "y = yelp_best_worst.stars #ratings\n",
        "# print x to look at x\n",
        "# print y to take a look at\n",
        "print (x.shape)\n",
        "\n",
        "#split into training and test sets\n",
        "x_train, x_test, y_train, y_test = train_test_split(x,y,random_state=1)"
      ]
    },
    {
      "cell_type": "code",
      "execution_count": null,
      "metadata": {
        "id": "gVcYeHzIYrq1"
      },
      "outputs": [],
      "source": [
        "print (x)"
      ]
    },
    {
      "cell_type": "code",
      "execution_count": null,
      "metadata": {
        "id": "-blTDpIyYrq1"
      },
      "outputs": [],
      "source": [
        "x[0]"
      ]
    },
    {
      "cell_type": "markdown",
      "metadata": {
        "id": "q9xNLFXlYrq1"
      },
      "source": [
        "### Tokenization"
      ]
    },
    {
      "cell_type": "code",
      "execution_count": null,
      "metadata": {
        "id": "JHanjLCfYrq2",
        "outputId": "febfc1da-7021-453f-aac3-4cee3cb0637f"
      },
      "outputs": [
        {
          "name": "stdout",
          "output_type": "stream",
          "text": [
            "  (0, 5773)\t1\n",
            "  (0, 10362)\t2\n",
            "  (0, 12465)\t1\n",
            "  (0, 10069)\t1\n",
            "  (0, 10180)\t1\n",
            "  (0, 16612)\t2\n",
            "  (0, 4631)\t1\n",
            "  (0, 9578)\t1\n",
            "  (0, 15093)\t1\n",
            "  (0, 11186)\t1\n",
            "  (0, 136)\t1\n",
            "  (0, 4809)\t1\n",
            "  (0, 15136)\t1\n",
            "  (0, 10413)\t2\n",
            "  (0, 16195)\t1\n",
            "  (0, 15834)\t1\n",
            "  (0, 12514)\t2\n",
            "  (0, 2789)\t1\n",
            "  (0, 14838)\t1\n",
            "  (0, 10286)\t2\n",
            "  (0, 3679)\t1\n",
            "  (0, 15032)\t2\n",
            "  (0, 1018)\t1\n",
            "  (0, 2286)\t2\n",
            "  (0, 1003)\t1\n",
            "  :\t:\n",
            "  (3063, 2312)\t1\n",
            "  (3063, 9318)\t1\n",
            "  (3063, 879)\t1\n",
            "  (3063, 10352)\t2\n",
            "  (3063, 15968)\t1\n",
            "  (3063, 7181)\t1\n",
            "  (3063, 15042)\t1\n",
            "  (3063, 5333)\t1\n",
            "  (3063, 8189)\t2\n",
            "  (3063, 1548)\t1\n",
            "  (3063, 9807)\t1\n",
            "  (3063, 2818)\t1\n",
            "  (3063, 2735)\t1\n",
            "  (3063, 14836)\t1\n",
            "  (3063, 6718)\t1\n",
            "  (3063, 16599)\t1\n",
            "  (3063, 6974)\t1\n",
            "  (3063, 14137)\t1\n",
            "  (3063, 5139)\t1\n",
            "  (3063, 4538)\t1\n",
            "  (3063, 10805)\t1\n",
            "  (3063, 14994)\t1\n",
            "  (3063, 9438)\t1\n",
            "  (3063, 16162)\t1\n",
            "  (3063, 6616)\t1\n"
          ]
        }
      ],
      "source": [
        "# use CountVetorizer to create document-term matrices from x_train and x_test\n",
        "vect = CountVectorizer()\n",
        "#Tokenize the documents and count the occurrences of token and\n",
        "#return them as a sparse matrix\n",
        "x_train_dtm = vect.fit_transform(x_train) # learn the vocabulary dictionary ad create term document matrix\n",
        "print (x_train_dtm)\n",
        "#print (x_train_dtm.shape)\n",
        "x_test_dtm= vect.transform(x_test)\n",
        "#print x_test_dtm\n",
        "#x_test_dtm.shape"
      ]
    },
    {
      "cell_type": "code",
      "execution_count": null,
      "metadata": {
        "id": "6zp-GDE6Yrq2",
        "outputId": "2a9d254a-fd89-4bf7-c481-121c0bfab727"
      },
      "outputs": [
        {
          "name": "stdout",
          "output_type": "stream",
          "text": [
            "1607    Looking a cutting edge, wanting the best for e...\n",
            "3409    Greatness in the form of food, just like the o...\n",
            "1751    The Flower Studio far exceeded my expectations...\n",
            "2275        So yummy! Strange combination but great place\n",
            "230     I've been hearing about these cheesecakes from...\n",
            "                              ...                        \n",
            "2793    Honey jalapeño chicken lollipops and sweet pot...\n",
            "671                    probably my favorite restaurant :)\n",
            "3441    A philosophical elder of my profession commonl...\n",
            "3224    First, I'm sorry this review is lengthy, but i...\n",
            "3362    You speak Italian to me and provide mouth wate...\n",
            "Name: text, Length: 1022, dtype: object\n"
          ]
        }
      ],
      "source": [
        "print (x_test)"
      ]
    },
    {
      "cell_type": "code",
      "execution_count": null,
      "metadata": {
        "id": "0EGIdMQEYrq2",
        "outputId": "5494491f-31ac-4375-d9dd-65ae4d0ff14c"
      },
      "outputs": [
        {
          "name": "stderr",
          "output_type": "stream",
          "text": [
            "C:\\Users\\ehsan\\Anaconda3\\lib\\site-packages\\sklearn\\utils\\deprecation.py:87: FutureWarning: Function get_feature_names is deprecated; get_feature_names is deprecated in 1.0 and will be removed in 1.2. Please use get_feature_names_out instead.\n",
            "  warnings.warn(msg, category=FutureWarning)\n"
          ]
        },
        {
          "data": {
            "text/html": [
              "<div>\n",
              "<style scoped>\n",
              "    .dataframe tbody tr th:only-of-type {\n",
              "        vertical-align: middle;\n",
              "    }\n",
              "\n",
              "    .dataframe tbody tr th {\n",
              "        vertical-align: top;\n",
              "    }\n",
              "\n",
              "    .dataframe thead th {\n",
              "        text-align: right;\n",
              "    }\n",
              "</style>\n",
              "<table border=\"1\" class=\"dataframe\">\n",
              "  <thead>\n",
              "    <tr style=\"text-align: right;\">\n",
              "      <th></th>\n",
              "      <th>00</th>\n",
              "      <th>000</th>\n",
              "      <th>00a</th>\n",
              "      <th>00am</th>\n",
              "      <th>00pm</th>\n",
              "      <th>01</th>\n",
              "      <th>02</th>\n",
              "      <th>03</th>\n",
              "      <th>03342</th>\n",
              "      <th>04</th>\n",
              "      <th>...</th>\n",
              "      <th>zucchini</th>\n",
              "      <th>zuchinni</th>\n",
              "      <th>zumba</th>\n",
              "      <th>zupa</th>\n",
              "      <th>zuzu</th>\n",
              "      <th>zwiebel</th>\n",
              "      <th>zzed</th>\n",
              "      <th>éclairs</th>\n",
              "      <th>école</th>\n",
              "      <th>ém</th>\n",
              "    </tr>\n",
              "  </thead>\n",
              "  <tbody>\n",
              "    <tr>\n",
              "      <th>0</th>\n",
              "      <td>0</td>\n",
              "      <td>0</td>\n",
              "      <td>0</td>\n",
              "      <td>0</td>\n",
              "      <td>0</td>\n",
              "      <td>0</td>\n",
              "      <td>0</td>\n",
              "      <td>0</td>\n",
              "      <td>0</td>\n",
              "      <td>0</td>\n",
              "      <td>...</td>\n",
              "      <td>0</td>\n",
              "      <td>0</td>\n",
              "      <td>0</td>\n",
              "      <td>0</td>\n",
              "      <td>0</td>\n",
              "      <td>0</td>\n",
              "      <td>0</td>\n",
              "      <td>0</td>\n",
              "      <td>0</td>\n",
              "      <td>0</td>\n",
              "    </tr>\n",
              "    <tr>\n",
              "      <th>1</th>\n",
              "      <td>0</td>\n",
              "      <td>0</td>\n",
              "      <td>0</td>\n",
              "      <td>0</td>\n",
              "      <td>0</td>\n",
              "      <td>0</td>\n",
              "      <td>0</td>\n",
              "      <td>0</td>\n",
              "      <td>0</td>\n",
              "      <td>0</td>\n",
              "      <td>...</td>\n",
              "      <td>0</td>\n",
              "      <td>0</td>\n",
              "      <td>0</td>\n",
              "      <td>0</td>\n",
              "      <td>0</td>\n",
              "      <td>0</td>\n",
              "      <td>0</td>\n",
              "      <td>0</td>\n",
              "      <td>0</td>\n",
              "      <td>0</td>\n",
              "    </tr>\n",
              "    <tr>\n",
              "      <th>2</th>\n",
              "      <td>0</td>\n",
              "      <td>0</td>\n",
              "      <td>0</td>\n",
              "      <td>0</td>\n",
              "      <td>0</td>\n",
              "      <td>0</td>\n",
              "      <td>0</td>\n",
              "      <td>0</td>\n",
              "      <td>0</td>\n",
              "      <td>0</td>\n",
              "      <td>...</td>\n",
              "      <td>0</td>\n",
              "      <td>0</td>\n",
              "      <td>0</td>\n",
              "      <td>0</td>\n",
              "      <td>0</td>\n",
              "      <td>0</td>\n",
              "      <td>0</td>\n",
              "      <td>0</td>\n",
              "      <td>0</td>\n",
              "      <td>0</td>\n",
              "    </tr>\n",
              "    <tr>\n",
              "      <th>3</th>\n",
              "      <td>0</td>\n",
              "      <td>0</td>\n",
              "      <td>0</td>\n",
              "      <td>0</td>\n",
              "      <td>0</td>\n",
              "      <td>0</td>\n",
              "      <td>0</td>\n",
              "      <td>0</td>\n",
              "      <td>0</td>\n",
              "      <td>0</td>\n",
              "      <td>...</td>\n",
              "      <td>0</td>\n",
              "      <td>0</td>\n",
              "      <td>0</td>\n",
              "      <td>0</td>\n",
              "      <td>0</td>\n",
              "      <td>0</td>\n",
              "      <td>0</td>\n",
              "      <td>0</td>\n",
              "      <td>0</td>\n",
              "      <td>0</td>\n",
              "    </tr>\n",
              "    <tr>\n",
              "      <th>4</th>\n",
              "      <td>0</td>\n",
              "      <td>0</td>\n",
              "      <td>0</td>\n",
              "      <td>0</td>\n",
              "      <td>0</td>\n",
              "      <td>0</td>\n",
              "      <td>0</td>\n",
              "      <td>0</td>\n",
              "      <td>0</td>\n",
              "      <td>0</td>\n",
              "      <td>...</td>\n",
              "      <td>0</td>\n",
              "      <td>0</td>\n",
              "      <td>0</td>\n",
              "      <td>0</td>\n",
              "      <td>0</td>\n",
              "      <td>0</td>\n",
              "      <td>0</td>\n",
              "      <td>0</td>\n",
              "      <td>0</td>\n",
              "      <td>0</td>\n",
              "    </tr>\n",
              "  </tbody>\n",
              "</table>\n",
              "<p>5 rows × 16825 columns</p>\n",
              "</div>"
            ],
            "text/plain": [
              "   00  000  00a  00am  00pm  01  02  03  03342  04  ...  zucchini  zuchinni  \\\n",
              "0   0    0    0     0     0   0   0   0      0   0  ...         0         0   \n",
              "1   0    0    0     0     0   0   0   0      0   0  ...         0         0   \n",
              "2   0    0    0     0     0   0   0   0      0   0  ...         0         0   \n",
              "3   0    0    0     0     0   0   0   0      0   0  ...         0         0   \n",
              "4   0    0    0     0     0   0   0   0      0   0  ...         0         0   \n",
              "\n",
              "   zumba  zupa  zuzu  zwiebel  zzed  éclairs  école  ém  \n",
              "0      0     0     0        0     0        0      0   0  \n",
              "1      0     0     0        0     0        0      0   0  \n",
              "2      0     0     0        0     0        0      0   0  \n",
              "3      0     0     0        0     0        0      0   0  \n",
              "4      0     0     0        0     0        0      0   0  \n",
              "\n",
              "[5 rows x 16825 columns]"
            ]
          },
          "execution_count": 11,
          "metadata": {},
          "output_type": "execute_result"
        }
      ],
      "source": [
        "tf = pd.DataFrame(x_train_dtm.toarray(), columns=vect.get_feature_names())\n",
        "tf.head()"
      ]
    },
    {
      "cell_type": "code",
      "execution_count": null,
      "metadata": {
        "id": "_gCCWZOMYrq2",
        "outputId": "624d5f48-9620-4da1-bd8b-8ede3e28a2ec"
      },
      "outputs": [
        {
          "data": {
            "text/plain": [
              "2790    FILLY-B's!!!!!  only 8 reviews?? NINE now!!!\\n...\n",
              "725     My husband and I absolutely LOVE this restaura...\n",
              "1578    We went today after lunch. I got my usual of l...\n",
              "282     Totally dissapointed.  I had purchased a coupo...\n",
              "2024    Costco Travel - My husband and I recently retu...\n",
              "Name: text, dtype: object"
            ]
          },
          "execution_count": 12,
          "metadata": {},
          "output_type": "execute_result"
        }
      ],
      "source": [
        "x_train.head()"
      ]
    },
    {
      "cell_type": "code",
      "execution_count": null,
      "metadata": {
        "id": "5lMb9016Yrq3",
        "outputId": "58324b7f-958f-498b-9254-3f3901c7eb20"
      },
      "outputs": [
        {
          "data": {
            "text/plain": [
              "(3064, 20838)"
            ]
          },
          "execution_count": 13,
          "metadata": {},
          "output_type": "execute_result"
        }
      ],
      "source": [
        "#don't lowercase\n",
        "vect = CountVectorizer(lowercase=False)\n",
        "x_train_dtm = vect.fit_transform(x_train)\n",
        "x_train_dtm.shape"
      ]
    },
    {
      "cell_type": "code",
      "execution_count": null,
      "metadata": {
        "id": "vXTiqQiiYrq3",
        "outputId": "e51f4548-0ae0-42dd-a263-0ea45d81bb8c"
      },
      "outputs": [
        {
          "data": {
            "text/plain": [
              "(3064, 169847)"
            ]
          },
          "execution_count": 14,
          "metadata": {},
          "output_type": "execute_result"
        }
      ],
      "source": [
        "# include 1-grams and 2-grams (an n-gram is N-grams is just all combinations of adjacent words\n",
        "# or letters of length n that you can find in your source text)\n",
        "vect = CountVectorizer(ngram_range=(1,2))\n",
        "x_train_dtm = vect.fit_transform(x_train)\n",
        "x_train_dtm.shape"
      ]
    },
    {
      "cell_type": "code",
      "execution_count": null,
      "metadata": {
        "id": "6KZGRUgkYrq3",
        "outputId": "1378653d-0842-4e1e-edec-a8393dc6df29"
      },
      "outputs": [
        {
          "name": "stdout",
          "output_type": "stream",
          "text": [
            "['zone out', 'zone when', 'zones', 'zones dolls', 'zoning', 'zoning issues', 'zoo', 'zoo and', 'zoo is', 'zoo not', 'zoo the', 'zoo ve', 'zoyo', 'zoyo for', 'zucca', 'zucca appetizer', 'zucchini', 'zucchini and', 'zucchini bread', 'zucchini broccoli', 'zucchini carrots', 'zucchini fries', 'zucchini pieces', 'zucchini strips', 'zucchini veal', 'zucchini very', 'zucchini with', 'zuchinni', 'zuchinni again', 'zuchinni the', 'zumba', 'zumba class', 'zumba or', 'zumba yogalates', 'zupa', 'zupa flavors', 'zuzu', 'zuzu in', 'zuzu is', 'zuzu the', 'zwiebel', 'zwiebel kräuter', 'zzed', 'zzed in', 'éclairs', 'éclairs napoleons', 'école', 'école lenôtre', 'ém', 'ém all']\n"
          ]
        },
        {
          "name": "stderr",
          "output_type": "stream",
          "text": [
            "C:\\Users\\ehsan\\Anaconda3\\lib\\site-packages\\sklearn\\utils\\deprecation.py:87: FutureWarning: Function get_feature_names is deprecated; get_feature_names is deprecated in 1.0 and will be removed in 1.2. Please use get_feature_names_out instead.\n",
            "  warnings.warn(msg, category=FutureWarning)\n"
          ]
        }
      ],
      "source": [
        "print (vect.get_feature_names()[-50:]) # The last 50 words"
      ]
    },
    {
      "cell_type": "markdown",
      "metadata": {
        "id": "ILQfcJ70Yrq3"
      },
      "source": [
        "### Predict the star rating"
      ]
    },
    {
      "cell_type": "code",
      "execution_count": null,
      "metadata": {
        "id": "dX8cl-KWYrq3",
        "outputId": "fc9f5794-05b9-40ce-d1d7-9946cf8d3489"
      },
      "outputs": [
        {
          "name": "stdout",
          "output_type": "stream",
          "text": [
            "0.9187866927592955\n"
          ]
        }
      ],
      "source": [
        "vect = CountVectorizer()\n",
        "\n",
        "x_train_dtm = vect.fit_transform(x_train)\n",
        "x_test_dtm = vect.transform(x_test)\n",
        "\n",
        "# Questions?\n",
        "# what is the difference between f\n",
        "#fit() : is used to generate learning model parameters from training data\n",
        "#transform() : parameters generated from fit() method,applied upon model to\n",
        "# generate transformed data set.\n",
        "# fit_transform() : combines fit() and transform() api on same data sets\n",
        "\n",
        "#Naive Bayes\n",
        "nb = MultinomialNB()\n",
        "nb.fit(x_train_dtm, y_train)\n",
        "y_pred_class = nb.predict(x_test_dtm)\n",
        "\n",
        "print (metrics.accuracy_score(y_test, y_pred_class))"
      ]
    },
    {
      "cell_type": "markdown",
      "metadata": {
        "id": "b8oGpynyYrq4"
      },
      "source": [
        "### Calculate null accuracy\n",
        "y_test_binary = np.where(y_test==5, 1, 0)\n",
        "max(y_test_binary.mean(), 1-y_test_binary.mean())"
      ]
    },
    {
      "cell_type": "code",
      "execution_count": null,
      "metadata": {
        "id": "JPD5I8-lYrq4"
      },
      "outputs": [],
      "source": [
        "#define a function that accepts a vectorizer and calculates the accuracy\n",
        "def tokenize_test(vect):\n",
        "    x_train_dtm = vect.fit_transform(x_train)\n",
        "    print ('Features: ', x_train_dtm.shape[1])\n",
        "    x_test_dtm = vect.transform(x_test)\n",
        "    nb = MultinomialNB()\n",
        "    nb.fit(x_train_dtm, y_train)\n",
        "    y_pred_class = nb.predict(x_test_dtm)\n",
        "    print ('Accuracy: ', metrics.accuracy_score(y_test, y_pred_class))"
      ]
    },
    {
      "cell_type": "code",
      "execution_count": null,
      "metadata": {
        "id": "2F7fux0XYrq4",
        "outputId": "9481b61b-0e78-42d8-978a-77f90265594e"
      },
      "outputs": [
        {
          "name": "stdout",
          "output_type": "stream",
          "text": [
            "Features:  16825\n",
            "Accuracy:  0.9187866927592955\n"
          ]
        }
      ],
      "source": [
        "vect = CountVectorizer()\n",
        "tokenize_test(vect)"
      ]
    },
    {
      "cell_type": "markdown",
      "metadata": {
        "id": "hpFtnOg9Yrq4"
      },
      "source": [
        "### Stopword removal\n",
        "- Stopwords are used words that are widely used in a language.\n",
        "- To find the list of stopwords in a given language, one can easily type\n",
        "    - import nltk\n",
        "    - from nltk.corpus import stopwords\n",
        "    - set(stopwords.words('the language = 'english', ;french'))"
      ]
    },
    {
      "cell_type": "code",
      "execution_count": null,
      "metadata": {
        "id": "yDDF4J1uYrq4"
      },
      "outputs": [],
      "source": [
        "#remove English stop words\n",
        "vect = CountVectorizer(stop_words='english')\n",
        "tokenize_test(vect)"
      ]
    },
    {
      "cell_type": "code",
      "execution_count": null,
      "metadata": {
        "id": "_WlDgJjiYrq4"
      },
      "outputs": [],
      "source": [
        "# set of stop words\n",
        "print (vect.get_stop_words())"
      ]
    },
    {
      "cell_type": "code",
      "execution_count": null,
      "metadata": {
        "id": "xtzN4gAAYrq4"
      },
      "outputs": [],
      "source": [
        "#max_features\n",
        "vect = CountVectorizer(stop_words='english', max_features=100)\n",
        "tokenize_test(vect)"
      ]
    },
    {
      "cell_type": "code",
      "execution_count": null,
      "metadata": {
        "id": "xkun96C5Yrq5"
      },
      "outputs": [],
      "source": [
        "print(vect.get_feature_names())"
      ]
    },
    {
      "cell_type": "code",
      "execution_count": null,
      "metadata": {
        "id": "a8rtjfp8Yrq5"
      },
      "outputs": [],
      "source": [
        "#From here\n",
        "vect = CountVectorizer(ngram_range=(1,2), max_features=100000)\n",
        "tokenize_test(vect)"
      ]
    },
    {
      "cell_type": "code",
      "execution_count": null,
      "metadata": {
        "id": "Pp1U3JT_Yrq5"
      },
      "outputs": [],
      "source": [
        "#min_df sets the minimum document frequency allowed when creating vocab\n",
        "vect = CountVectorizer(ngram_range=(1,2), min_df=2)\n",
        "tokenize_test(vect)"
      ]
    },
    {
      "cell_type": "markdown",
      "metadata": {
        "id": "dXHDNcLXYrq5"
      },
      "source": [
        "### TextBlob"
      ]
    },
    {
      "cell_type": "code",
      "execution_count": null,
      "metadata": {
        "id": "s0r34q7EYrq5"
      },
      "outputs": [],
      "source": [
        "print (yelp_best_worst.text[0])"
      ]
    },
    {
      "cell_type": "code",
      "execution_count": null,
      "metadata": {
        "id": "wVachuKhYrq5"
      },
      "outputs": [],
      "source": [
        "review = TextBlob(yelp_best_worst.text[0])"
      ]
    },
    {
      "cell_type": "code",
      "execution_count": null,
      "metadata": {
        "id": "kpJFdW_kYrq5"
      },
      "outputs": [],
      "source": [
        "review.words"
      ]
    },
    {
      "cell_type": "code",
      "execution_count": null,
      "metadata": {
        "id": "fGTDbJXVYrq6"
      },
      "outputs": [],
      "source": [
        "review.sentences"
      ]
    },
    {
      "cell_type": "code",
      "execution_count": null,
      "metadata": {
        "id": "cW9lb14VYrq6"
      },
      "outputs": [],
      "source": [
        "review.lower()"
      ]
    },
    {
      "cell_type": "markdown",
      "metadata": {
        "id": "vBYHTkp4Yrq6"
      },
      "source": [
        "### Stemming and lemmatization"
      ]
    },
    {
      "cell_type": "code",
      "execution_count": null,
      "metadata": {
        "id": "vTLksAXyYrq6"
      },
      "outputs": [],
      "source": [
        "stemmer = SnowballStemmer('english')\n",
        "print ([stemmer.stem(word) for word in review.words])"
      ]
    },
    {
      "cell_type": "code",
      "execution_count": null,
      "metadata": {
        "id": "18yi_jpEYrrC"
      },
      "outputs": [],
      "source": [
        "print ([word.lemmatize() for word in review.words])"
      ]
    },
    {
      "cell_type": "code",
      "execution_count": null,
      "metadata": {
        "id": "MQ2AzjyjYrrC"
      },
      "outputs": [],
      "source": [
        "#assume every word is a verb\n",
        "print ([word.lemmatize(pos='v') for word in review.words])"
      ]
    },
    {
      "cell_type": "code",
      "execution_count": null,
      "metadata": {
        "id": "vC_ym1KrYrrD"
      },
      "outputs": [],
      "source": [
        "def split_into_lemmas(text):\n",
        "    text = text.lower()\n",
        "    words = TextBlob(text).words\n",
        "    #return [word.lemmatize() for word in words]\n",
        "    return [stemmer.stem(word) for word in words]"
      ]
    },
    {
      "cell_type": "code",
      "execution_count": null,
      "metadata": {
        "id": "XaUtdKC4YrrD"
      },
      "outputs": [],
      "source": [
        "#split review text into lemmas rather than into words (default)\n",
        "vect = CountVectorizer(analyzer=split_into_lemmas)\n",
        "tokenize_test(vect)"
      ]
    },
    {
      "cell_type": "code",
      "execution_count": null,
      "metadata": {
        "id": "s5_E0cCpYrrD"
      },
      "outputs": [],
      "source": [
        "print (vect.get_feature_names()[-50:])"
      ]
    },
    {
      "cell_type": "markdown",
      "metadata": {
        "id": "_G9deFoYYrrD"
      },
      "source": [
        "### Sentiment Analysis"
      ]
    },
    {
      "cell_type": "markdown",
      "metadata": {
        "id": "JxVWVXd_YrrE"
      },
      "source": [
        "- Aims to sense people's mood based on the text they write.\n",
        "- Can be done when the text is quantifiable.\n",
        "- Sentiment can be positive or negative."
      ]
    },
    {
      "cell_type": "code",
      "execution_count": null,
      "metadata": {
        "id": "d7XiMLPBYrrE"
      },
      "outputs": [],
      "source": [
        "print (review)"
      ]
    },
    {
      "cell_type": "code",
      "execution_count": null,
      "metadata": {
        "id": "-Xd4zYeOYrrE"
      },
      "outputs": [],
      "source": [
        "max_i = 0\n",
        "max_polarity = -float('inf')\n",
        "\n",
        "min_i = 0\n",
        "min_polarity = float('inf')\n",
        "\n",
        "for i in range(len(yelp_best_worst.text)):\n",
        "    review_text = str(yelp_best_worst.text[i])\n",
        "    this_polarity = TextBlob(review_text).sentiment.polarity\n",
        "\n",
        "    if this_polarity > max_polarity:\n",
        "        max_i = i\n",
        "        max_polarity = this_polarity\n",
        "\n",
        "    if this_polarity < min_polarity:\n",
        "        min_i = i\n",
        "        min_polarity = this_polarity\n",
        "\n",
        "print (TextBlob(yelp_best_worst.text[max_i]))\n",
        "print (TextBlob(yelp_best_worst.text[min_i]))"
      ]
    },
    {
      "cell_type": "code",
      "execution_count": null,
      "metadata": {
        "id": "q5Rh67PfYrrE"
      },
      "outputs": [],
      "source": [
        "#polarity ranges from -1 (most negative) to 1 (most positive)\n",
        "print(review.sentiment.polarity)\n",
        "print(max_polarity)\n",
        "print(min_polarity)"
      ]
    },
    {
      "cell_type": "code",
      "execution_count": null,
      "metadata": {
        "id": "QUeTXw0WYrrE"
      },
      "outputs": [],
      "source": [
        "#understanding the apply method\n",
        "yelp['length'] = yelp.text.apply(len)"
      ]
    },
    {
      "cell_type": "code",
      "execution_count": null,
      "metadata": {
        "id": "pJe_PxvOYrrE"
      },
      "outputs": [],
      "source": [
        "yelp.head(10)"
      ]
    },
    {
      "cell_type": "code",
      "execution_count": null,
      "metadata": {
        "id": "_NII_tQ2YrrE"
      },
      "outputs": [],
      "source": [
        "#define a function that accepts text and returns polarity\n",
        "def detect_sentiment(text):\n",
        "    return TextBlob(text).sentiment.polarity"
      ]
    },
    {
      "cell_type": "code",
      "execution_count": null,
      "metadata": {
        "id": "fO8qmNIkYrrE"
      },
      "outputs": [],
      "source": [
        "#create a new DataFrame column for sentiment\n",
        "yelp['sentiment'] = yelp.text.apply(detect_sentiment)"
      ]
    },
    {
      "cell_type": "code",
      "execution_count": null,
      "metadata": {
        "scrolled": false,
        "id": "zrXyTqBjYrrF"
      },
      "outputs": [],
      "source": [
        "yelp.boxplot(column='sentiment', by='stars')"
      ]
    },
    {
      "cell_type": "code",
      "execution_count": null,
      "metadata": {
        "id": "qqR0aLk2YrrF"
      },
      "outputs": [],
      "source": []
    }
  ],
  "metadata": {
    "kernelspec": {
      "display_name": "Python 3 (ipykernel)",
      "language": "python",
      "name": "python3"
    },
    "language_info": {
      "codemirror_mode": {
        "name": "ipython",
        "version": 3
      },
      "file_extension": ".py",
      "mimetype": "text/x-python",
      "name": "python",
      "nbconvert_exporter": "python",
      "pygments_lexer": "ipython3",
      "version": "3.11.5"
    },
    "colab": {
      "provenance": [],
      "include_colab_link": true
    }
  },
  "nbformat": 4,
  "nbformat_minor": 0
}