{
  "cells": [
    {
      "cell_type": "markdown",
      "metadata": {
        "id": "view-in-github",
        "colab_type": "text"
      },
      "source": [
        "<a href=\"https://colab.research.google.com/github/Nhung-Nguyen86/DataScience/blob/main/Spam_filtering_project.ipynb\" target=\"_parent\"><img src=\"https://colab.research.google.com/assets/colab-badge.svg\" alt=\"Open In Colab\"/></a>"
      ]
    },
    {
      "cell_type": "markdown",
      "id": "89d270d5",
      "metadata": {
        "id": "89d270d5"
      },
      "source": [
        "# SPAM FILTERING DATA"
      ]
    },
    {
      "cell_type": "code",
      "execution_count": null,
      "id": "c1da9294",
      "metadata": {
        "id": "c1da9294"
      },
      "outputs": [],
      "source": [
        "import numpy as np\n",
        "import pandas as pd\n",
        "import matplotlib.pyplot as plt\n",
        "from sklearn.model_selection import train_test_split\n",
        "from sklearn.feature_extraction.text import CountVectorizer\n",
        "from sklearn.naive_bayes import MultinomialNB"
      ]
    },
    {
      "cell_type": "markdown",
      "id": "b00d971e",
      "metadata": {
        "id": "b00d971e"
      },
      "source": [
        "1. Begin by reading the article titled \"Spam Filtering with Naive Bayes – Which Naive Bayes?\" by Metsis et al., which has been uploaded to Canvas. This article provides insights into the experimental procedure for evaluating Naive Bayes classifiers for spam filtering. Pay particular attention to their approach for comparing different versions of Naive Bayes using ROC curves."
      ]
    },
    {
      "cell_type": "code",
      "execution_count": null,
      "id": "e490feb2",
      "metadata": {
        "id": "e490feb2",
        "outputId": "763bda8e-470c-48bc-9e6a-4f0f7681ba91"
      },
      "outputs": [
        {
          "data": {
            "text/html": [
              "<div>\n",
              "<style scoped>\n",
              "    .dataframe tbody tr th:only-of-type {\n",
              "        vertical-align: middle;\n",
              "    }\n",
              "\n",
              "    .dataframe tbody tr th {\n",
              "        vertical-align: top;\n",
              "    }\n",
              "\n",
              "    .dataframe thead th {\n",
              "        text-align: right;\n",
              "    }\n",
              "</style>\n",
              "<table border=\"1\" class=\"dataframe\">\n",
              "  <thead>\n",
              "    <tr style=\"text-align: right;\">\n",
              "      <th></th>\n",
              "      <th>Unnamed: 0</th>\n",
              "      <th>Body</th>\n",
              "      <th>Label</th>\n",
              "    </tr>\n",
              "  </thead>\n",
              "  <tbody>\n",
              "    <tr>\n",
              "      <th>0</th>\n",
              "      <td>0</td>\n",
              "      <td>\\nSave up to 70% on Life Insurance.\\nWhy Spend...</td>\n",
              "      <td>1</td>\n",
              "    </tr>\n",
              "    <tr>\n",
              "      <th>1</th>\n",
              "      <td>1</td>\n",
              "      <td>1) Fight The Risk of Cancer!\\nhttp://www.adcli...</td>\n",
              "      <td>1</td>\n",
              "    </tr>\n",
              "    <tr>\n",
              "      <th>2</th>\n",
              "      <td>2</td>\n",
              "      <td>1) Fight The Risk of Cancer!\\nhttp://www.adcli...</td>\n",
              "      <td>1</td>\n",
              "    </tr>\n",
              "    <tr>\n",
              "      <th>3</th>\n",
              "      <td>3</td>\n",
              "      <td>##############################################...</td>\n",
              "      <td>1</td>\n",
              "    </tr>\n",
              "    <tr>\n",
              "      <th>4</th>\n",
              "      <td>4</td>\n",
              "      <td>I thought you might like these:\\n1) Slim Down ...</td>\n",
              "      <td>1</td>\n",
              "    </tr>\n",
              "    <tr>\n",
              "      <th>...</th>\n",
              "      <td>...</td>\n",
              "      <td>...</td>\n",
              "      <td>...</td>\n",
              "    </tr>\n",
              "    <tr>\n",
              "      <th>6041</th>\n",
              "      <td>6041</td>\n",
              "      <td>empty</td>\n",
              "      <td>0</td>\n",
              "    </tr>\n",
              "    <tr>\n",
              "      <th>6042</th>\n",
              "      <td>6042</td>\n",
              "      <td>___           ___           ...</td>\n",
              "      <td>0</td>\n",
              "    </tr>\n",
              "    <tr>\n",
              "      <th>6043</th>\n",
              "      <td>6043</td>\n",
              "      <td>IN THIS ISSUE:01. Readers write\\n02. Extension...</td>\n",
              "      <td>0</td>\n",
              "    </tr>\n",
              "    <tr>\n",
              "      <th>6044</th>\n",
              "      <td>6044</td>\n",
              "      <td>empty</td>\n",
              "      <td>0</td>\n",
              "    </tr>\n",
              "    <tr>\n",
              "      <th>6045</th>\n",
              "      <td>6045</td>\n",
              "      <td>empty</td>\n",
              "      <td>0</td>\n",
              "    </tr>\n",
              "  </tbody>\n",
              "</table>\n",
              "<p>6046 rows × 3 columns</p>\n",
              "</div>"
            ],
            "text/plain": [
              "      Unnamed: 0                                               Body  Label\n",
              "0              0  \\nSave up to 70% on Life Insurance.\\nWhy Spend...      1\n",
              "1              1  1) Fight The Risk of Cancer!\\nhttp://www.adcli...      1\n",
              "2              2  1) Fight The Risk of Cancer!\\nhttp://www.adcli...      1\n",
              "3              3  ##############################################...      1\n",
              "4              4  I thought you might like these:\\n1) Slim Down ...      1\n",
              "...          ...                                                ...    ...\n",
              "6041        6041                                              empty      0\n",
              "6042        6042                    ___           ___           ...      0\n",
              "6043        6043  IN THIS ISSUE:01. Readers write\\n02. Extension...      0\n",
              "6044        6044                                              empty      0\n",
              "6045        6045                                              empty      0\n",
              "\n",
              "[6046 rows x 3 columns]"
            ]
          },
          "execution_count": 3,
          "metadata": {},
          "output_type": "execute_result"
        }
      ],
      "source": [
        "data = pd.read_csv('Spam Filtering Data.csv')\n",
        "data"
      ]
    },
    {
      "cell_type": "code",
      "execution_count": null,
      "id": "6b8de96f",
      "metadata": {
        "id": "6b8de96f",
        "outputId": "d93fa932-4590-4634-8078-36d90651b0ca"
      },
      "outputs": [
        {
          "data": {
            "text/html": [
              "<div>\n",
              "<style scoped>\n",
              "    .dataframe tbody tr th:only-of-type {\n",
              "        vertical-align: middle;\n",
              "    }\n",
              "\n",
              "    .dataframe tbody tr th {\n",
              "        vertical-align: top;\n",
              "    }\n",
              "\n",
              "    .dataframe thead th {\n",
              "        text-align: right;\n",
              "    }\n",
              "</style>\n",
              "<table border=\"1\" class=\"dataframe\">\n",
              "  <thead>\n",
              "    <tr style=\"text-align: right;\">\n",
              "      <th></th>\n",
              "      <th>Unnamed: 0</th>\n",
              "      <th>Body</th>\n",
              "      <th>Label</th>\n",
              "    </tr>\n",
              "  </thead>\n",
              "  <tbody>\n",
              "    <tr>\n",
              "      <th>0</th>\n",
              "      <td>0</td>\n",
              "      <td>\\nSave up to 70% on Life Insurance.\\nWhy Spend...</td>\n",
              "      <td>1</td>\n",
              "    </tr>\n",
              "    <tr>\n",
              "      <th>1</th>\n",
              "      <td>1</td>\n",
              "      <td>1) Fight The Risk of Cancer!\\nhttp://www.adcli...</td>\n",
              "      <td>1</td>\n",
              "    </tr>\n",
              "    <tr>\n",
              "      <th>2</th>\n",
              "      <td>2</td>\n",
              "      <td>1) Fight The Risk of Cancer!\\nhttp://www.adcli...</td>\n",
              "      <td>1</td>\n",
              "    </tr>\n",
              "    <tr>\n",
              "      <th>3</th>\n",
              "      <td>3</td>\n",
              "      <td>##############################################...</td>\n",
              "      <td>1</td>\n",
              "    </tr>\n",
              "    <tr>\n",
              "      <th>4</th>\n",
              "      <td>4</td>\n",
              "      <td>I thought you might like these:\\n1) Slim Down ...</td>\n",
              "      <td>1</td>\n",
              "    </tr>\n",
              "  </tbody>\n",
              "</table>\n",
              "</div>"
            ],
            "text/plain": [
              "   Unnamed: 0                                               Body  Label\n",
              "0           0  \\nSave up to 70% on Life Insurance.\\nWhy Spend...      1\n",
              "1           1  1) Fight The Risk of Cancer!\\nhttp://www.adcli...      1\n",
              "2           2  1) Fight The Risk of Cancer!\\nhttp://www.adcli...      1\n",
              "3           3  ##############################################...      1\n",
              "4           4  I thought you might like these:\\n1) Slim Down ...      1"
            ]
          },
          "execution_count": 4,
          "metadata": {},
          "output_type": "execute_result"
        }
      ],
      "source": [
        "data.head()"
      ]
    },
    {
      "cell_type": "code",
      "execution_count": null,
      "id": "9a30f972",
      "metadata": {
        "id": "9a30f972",
        "outputId": "bdf5b525-3b37-4198-de24-b0404e524c15"
      },
      "outputs": [
        {
          "name": "stdout",
          "output_type": "stream",
          "text": [
            "<class 'pandas.core.frame.DataFrame'>\n",
            "RangeIndex: 6046 entries, 0 to 6045\n",
            "Data columns (total 3 columns):\n",
            " #   Column      Non-Null Count  Dtype \n",
            "---  ------      --------------  ----- \n",
            " 0   Unnamed: 0  6046 non-null   int64 \n",
            " 1   Body        6045 non-null   object\n",
            " 2   Label       6046 non-null   int64 \n",
            "dtypes: int64(2), object(1)\n",
            "memory usage: 141.8+ KB\n"
          ]
        }
      ],
      "source": [
        "data.info()"
      ]
    },
    {
      "cell_type": "code",
      "execution_count": null,
      "id": "31bf2ced",
      "metadata": {
        "id": "31bf2ced",
        "outputId": "a9d3fae2-0b43-47c4-eb8b-11b9cf340df4"
      },
      "outputs": [
        {
          "data": {
            "text/html": [
              "<div>\n",
              "<style scoped>\n",
              "    .dataframe tbody tr th:only-of-type {\n",
              "        vertical-align: middle;\n",
              "    }\n",
              "\n",
              "    .dataframe tbody tr th {\n",
              "        vertical-align: top;\n",
              "    }\n",
              "\n",
              "    .dataframe thead th {\n",
              "        text-align: right;\n",
              "    }\n",
              "</style>\n",
              "<table border=\"1\" class=\"dataframe\">\n",
              "  <thead>\n",
              "    <tr style=\"text-align: right;\">\n",
              "      <th></th>\n",
              "      <th>Unnamed: 0</th>\n",
              "      <th>Label</th>\n",
              "    </tr>\n",
              "  </thead>\n",
              "  <tbody>\n",
              "    <tr>\n",
              "      <th>count</th>\n",
              "      <td>6046.000000</td>\n",
              "      <td>6046.000000</td>\n",
              "    </tr>\n",
              "    <tr>\n",
              "      <th>mean</th>\n",
              "      <td>3022.500000</td>\n",
              "      <td>0.313596</td>\n",
              "    </tr>\n",
              "    <tr>\n",
              "      <th>std</th>\n",
              "      <td>1745.474195</td>\n",
              "      <td>0.463993</td>\n",
              "    </tr>\n",
              "    <tr>\n",
              "      <th>min</th>\n",
              "      <td>0.000000</td>\n",
              "      <td>0.000000</td>\n",
              "    </tr>\n",
              "    <tr>\n",
              "      <th>25%</th>\n",
              "      <td>1511.250000</td>\n",
              "      <td>0.000000</td>\n",
              "    </tr>\n",
              "    <tr>\n",
              "      <th>50%</th>\n",
              "      <td>3022.500000</td>\n",
              "      <td>0.000000</td>\n",
              "    </tr>\n",
              "    <tr>\n",
              "      <th>75%</th>\n",
              "      <td>4533.750000</td>\n",
              "      <td>1.000000</td>\n",
              "    </tr>\n",
              "    <tr>\n",
              "      <th>max</th>\n",
              "      <td>6045.000000</td>\n",
              "      <td>1.000000</td>\n",
              "    </tr>\n",
              "  </tbody>\n",
              "</table>\n",
              "</div>"
            ],
            "text/plain": [
              "        Unnamed: 0        Label\n",
              "count  6046.000000  6046.000000\n",
              "mean   3022.500000     0.313596\n",
              "std    1745.474195     0.463993\n",
              "min       0.000000     0.000000\n",
              "25%    1511.250000     0.000000\n",
              "50%    3022.500000     0.000000\n",
              "75%    4533.750000     1.000000\n",
              "max    6045.000000     1.000000"
            ]
          },
          "execution_count": 6,
          "metadata": {},
          "output_type": "execute_result"
        }
      ],
      "source": [
        " data.describe()"
      ]
    },
    {
      "cell_type": "code",
      "execution_count": null,
      "id": "e13ce940",
      "metadata": {
        "id": "e13ce940",
        "outputId": "9a6f354d-3699-493e-c17f-375911fd1dea"
      },
      "outputs": [
        {
          "data": {
            "text/plain": [
              "((4836, 1000), (1209, 1000), (4836,), (1209,))"
            ]
          },
          "execution_count": 10,
          "metadata": {},
          "output_type": "execute_result"
        }
      ],
      "source": [
        "from sklearn.feature_extraction.text import TfidfVectorizer\n",
        "from sklearn.model_selection import train_test_split\n",
        "\n",
        "data = data.drop(columns=['Unnamed: 0'])\n",
        "\n",
        "data = data.dropna(subset=['Body'])\n",
        "\n",
        "tfidf = TfidfVectorizer(stop_words='english', max_features=1000)\n",
        "\n",
        "X = tfidf.fit_transform(data['Body'])\n",
        "\n",
        "y = data['Label']\n",
        "\n",
        "X_train, X_test, y_train, y_test = train_test_split(X, y, test_size=0.2, random_state=42)\n",
        "\n",
        "X_train.shape, X_test.shape, y_train.shape, y_test.shape\n"
      ]
    },
    {
      "cell_type": "code",
      "execution_count": null,
      "id": "6bf0828f",
      "metadata": {
        "id": "6bf0828f",
        "outputId": "48bfe8d0-fbb8-4354-bd66-2eb6f55f3b67"
      },
      "outputs": [
        {
          "data": {
            "text/plain": [
              "Body     0\n",
              "Label    0\n",
              "dtype: int64"
            ]
          },
          "execution_count": 11,
          "metadata": {},
          "output_type": "execute_result"
        }
      ],
      "source": [
        "data.isnull().sum()"
      ]
    },
    {
      "cell_type": "markdown",
      "id": "42048e50",
      "metadata": {
        "id": "42048e50"
      },
      "source": [
        "2. Implement the following machine learning classifiers:\n",
        "Naive Bayes Classifier (Following the approaches discussed in the provided article)\n",
        "Support Vector Machines (SVM)\n",
        "Logistic Regression\n",
        "Gradient Boosting Machines (GBM)\n",
        "Random Forest Classifier"
      ]
    },
    {
      "cell_type": "markdown",
      "id": "3d641c98",
      "metadata": {
        "id": "3d641c98"
      },
      "source": [
        "# Naive Bayes Classifier - MultinomialNB"
      ]
    },
    {
      "cell_type": "code",
      "execution_count": null,
      "id": "be0b42ca",
      "metadata": {
        "scrolled": true,
        "id": "be0b42ca",
        "outputId": "49c861ad-217a-4454-e0f1-bed9851f011e"
      },
      "outputs": [
        {
          "name": "stdout",
          "output_type": "stream",
          "text": [
            "Accuracy: 0.9106699751861043\n",
            "Precision: 0.9537037037037037\n",
            "Recall: 0.7686567164179104\n",
            "F1 Score: 0.8512396694214877\n",
            "Confusion Matrix:\n",
            " [[792  15]\n",
            " [ 93 309]]\n",
            "Classification Report:\n",
            "               precision    recall  f1-score   support\n",
            "\n",
            "           0       0.89      0.98      0.94       807\n",
            "           1       0.95      0.77      0.85       402\n",
            "\n",
            "    accuracy                           0.91      1209\n",
            "   macro avg       0.92      0.88      0.89      1209\n",
            "weighted avg       0.91      0.91      0.91      1209\n",
            "\n"
          ]
        }
      ],
      "source": [
        "from sklearn.naive_bayes import MultinomialNB\n",
        "from sklearn.metrics import accuracy_score, precision_score, recall_score, f1_score, roc_curve, auc, confusion_matrix, classification_report\n",
        "import matplotlib.pyplot as plt\n",
        "\n",
        "naive_bayes_classifier = MultinomialNB()\n",
        "naive_bayes_classifier.fit(X_train, y_train)\n",
        "\n",
        "nb_predictions = naive_bayes_classifier.predict(X_test)\n",
        "nb_probabilities = naive_bayes_classifier.predict_proba(X_test)[:, 1]  # Probabilities for the positive class\n",
        "\n",
        "nb_accuracy = accuracy_score(y_test, nb_predictions)\n",
        "nb_precision = precision_score(y_test, nb_predictions)\n",
        "nb_recall = recall_score(y_test, nb_predictions)\n",
        "nb_f1_score = f1_score(y_test, nb_predictions)\n",
        "nb_confusion = confusion_matrix(y_test, nb_predictions)\n",
        "nb_classification_report = classification_report(y_test, nb_predictions)\n",
        "\n",
        "print(\"Accuracy:\", nb_accuracy)\n",
        "print(\"Precision:\", nb_precision)\n",
        "print(\"Recall:\", nb_recall)\n",
        "print(\"F1 Score:\", nb_f1_score)\n",
        "print(\"Confusion Matrix:\\n\", nb_confusion)\n",
        "print(\"Classification Report:\\n\", nb_classification_report)\n"
      ]
    },
    {
      "cell_type": "markdown",
      "id": "db09d2d6",
      "metadata": {
        "id": "db09d2d6"
      },
      "source": [
        "# Naive Bayes Classifier - GaussianNB"
      ]
    },
    {
      "cell_type": "code",
      "execution_count": null,
      "id": "3fde375f",
      "metadata": {
        "id": "3fde375f",
        "outputId": "1899ad1b-9b92-4eb2-e29d-89da51f61c1b"
      },
      "outputs": [
        {
          "name": "stdout",
          "output_type": "stream",
          "text": [
            "Accuracy: 0.9363110008271298\n",
            "Precision: 0.8684807256235828\n",
            "Recall: 0.9527363184079602\n",
            "F1 Score: 0.9086595492289442\n",
            "Confusion Matrix:\n",
            " [[749  58]\n",
            " [ 19 383]]\n",
            "Classification Report:\n",
            "               precision    recall  f1-score   support\n",
            "\n",
            "           0       0.98      0.93      0.95       807\n",
            "           1       0.87      0.95      0.91       402\n",
            "\n",
            "    accuracy                           0.94      1209\n",
            "   macro avg       0.92      0.94      0.93      1209\n",
            "weighted avg       0.94      0.94      0.94      1209\n",
            "\n"
          ]
        }
      ],
      "source": [
        "from sklearn.naive_bayes import GaussianNB\n",
        "from sklearn.metrics import accuracy_score, precision_score, recall_score, f1_score, roc_curve, auc, confusion_matrix, classification_report\n",
        "\n",
        "X_train_dense = X_train.toarray()\n",
        "X_test_dense = X_test.toarray()\n",
        "\n",
        "gaussian_nb_classifier = GaussianNB()\n",
        "gaussian_nb_classifier.fit(X_train_dense, y_train)\n",
        "\n",
        "nb_predictions = gaussian_nb_classifier.predict(X_test_dense)\n",
        "nb_probabilities = gaussian_nb_classifier.predict_proba(X_test_dense)[:, 1]\n",
        "\n",
        "nb_accuracy = accuracy_score(y_test, nb_predictions)\n",
        "nb_precision = precision_score(y_test, nb_predictions)\n",
        "nb_recall = recall_score(y_test, nb_predictions)\n",
        "nb_f1_score = f1_score(y_test, nb_predictions)\n",
        "nb_confusion = confusion_matrix(y_test, nb_predictions)\n",
        "nb_classification_report = classification_report(y_test, nb_predictions)\n",
        "\n",
        "fpr, tpr, thresholds = roc_curve(y_test, nb_probabilities)\n",
        "nb_auc = auc(fpr, tpr)\n",
        "\n",
        "print(\"Accuracy:\", nb_accuracy)\n",
        "print(\"Precision:\", nb_precision)\n",
        "print(\"Recall:\", nb_recall)\n",
        "print(\"F1 Score:\", nb_f1_score)\n",
        "print(\"Confusion Matrix:\\n\", nb_confusion)\n",
        "print(\"Classification Report:\\n\", nb_classification_report)\n"
      ]
    },
    {
      "cell_type": "code",
      "execution_count": null,
      "id": "e5489151",
      "metadata": {
        "id": "e5489151"
      },
      "outputs": [],
      "source": []
    },
    {
      "cell_type": "markdown",
      "id": "e4be13e8",
      "metadata": {
        "id": "e4be13e8"
      },
      "source": [
        "# Naive Bayes Classifier - BernoulliNB"
      ]
    },
    {
      "cell_type": "code",
      "execution_count": null,
      "id": "65b6f6cc",
      "metadata": {
        "id": "65b6f6cc",
        "outputId": "285fa184-0588-40e3-f656-1d2848a17c7c"
      },
      "outputs": [
        {
          "name": "stdout",
          "output_type": "stream",
          "text": [
            "Accuracy: 0.9396195202646815\n",
            "Precision: 0.8764302059496567\n",
            "Recall: 0.9527363184079602\n",
            "F1 Score: 0.9129916567342075\n",
            "Confusion Matrix:\n",
            " [[753  54]\n",
            " [ 19 383]]\n",
            "Classification Report:\n",
            "               precision    recall  f1-score   support\n",
            "\n",
            "           0       0.98      0.93      0.95       807\n",
            "           1       0.88      0.95      0.91       402\n",
            "\n",
            "    accuracy                           0.94      1209\n",
            "   macro avg       0.93      0.94      0.93      1209\n",
            "weighted avg       0.94      0.94      0.94      1209\n",
            "\n"
          ]
        }
      ],
      "source": [
        "from sklearn.naive_bayes import BernoulliNB\n",
        "from sklearn.metrics import accuracy_score, precision_score, recall_score, f1_score, roc_curve, auc, confusion_matrix, classification_report\n",
        "import matplotlib.pyplot as plt\n",
        "\n",
        "bernoulli_nb_classifier = BernoulliNB()\n",
        "bernoulli_nb_classifier.fit(X_train, y_train)\n",
        "\n",
        "nb_predictions = bernoulli_nb_classifier.predict(X_test)\n",
        "nb_probabilities = bernoulli_nb_classifier.predict_proba(X_test)[:, 1]  # Probabilities for the positive class\n",
        "\n",
        "nb_accuracy = accuracy_score(y_test, nb_predictions)\n",
        "nb_precision = precision_score(y_test, nb_predictions)\n",
        "nb_recall = recall_score(y_test, nb_predictions)\n",
        "nb_f1_score = f1_score(y_test, nb_predictions)\n",
        "nb_confusion = confusion_matrix(y_test, nb_predictions)\n",
        "nb_classification_report = classification_report(y_test, nb_predictions)\n",
        "\n",
        "fpr, tpr, thresholds = roc_curve(y_test, nb_probabilities)\n",
        "nb_auc = auc(fpr, tpr)\n",
        "\n",
        "print(\"Accuracy:\", nb_accuracy)\n",
        "print(\"Precision:\", nb_precision)\n",
        "print(\"Recall:\", nb_recall)\n",
        "print(\"F1 Score:\", nb_f1_score)\n",
        "print(\"Confusion Matrix:\\n\", nb_confusion)\n",
        "print(\"Classification Report:\\n\", nb_classification_report)\n"
      ]
    },
    {
      "cell_type": "markdown",
      "id": "763c2565",
      "metadata": {
        "id": "763c2565"
      },
      "source": [
        "#  Support Vector Machine (SVM)"
      ]
    },
    {
      "cell_type": "code",
      "execution_count": null,
      "id": "4bcbc754",
      "metadata": {
        "id": "4bcbc754",
        "outputId": "9009fde1-118f-4e48-f25f-9feb8c17967f"
      },
      "outputs": [
        {
          "name": "stdout",
          "output_type": "stream",
          "text": [
            "Accuracy: 0.9511993382961125\n",
            "Precision: 0.8853932584269663\n",
            "Recall: 0.9800995024875622\n",
            "F1 Score: 0.9303423848878395\n",
            "Confusion Matrix:\n",
            " [[756  51]\n",
            " [  8 394]]\n",
            "Classification Report:\n",
            "               precision    recall  f1-score   support\n",
            "\n",
            "           0       0.99      0.94      0.96       807\n",
            "           1       0.89      0.98      0.93       402\n",
            "\n",
            "    accuracy                           0.95      1209\n",
            "   macro avg       0.94      0.96      0.95      1209\n",
            "weighted avg       0.95      0.95      0.95      1209\n",
            "\n"
          ]
        }
      ],
      "source": [
        "from sklearn.svm import SVC\n",
        "\n",
        "svm_classifier = SVC(kernel='linear')\n",
        "svm_classifier.fit(X_train, y_train)\n",
        "\n",
        "svm_predictions = svm_classifier.predict(X_test)\n",
        "\n",
        "svm_accuracy = accuracy_score(y_test, svm_predictions)\n",
        "svm_precision = precision_score(y_test, svm_predictions)\n",
        "svm_recall = recall_score(y_test, svm_predictions)\n",
        "svm_f1_score = f1_score(y_test, svm_predictions)\n",
        "svm_confusion = confusion_matrix(y_test, svm_predictions)\n",
        "svm_classification_report = classification_report(y_test, svm_predictions)\n",
        "\n",
        "svm_auc = auc(fpr, tpr)\n",
        "\n",
        "print(\"Accuracy:\", svm_accuracy)\n",
        "print(\"Precision:\", svm_precision)\n",
        "print(\"Recall:\", svm_recall)\n",
        "print(\"F1 Score:\", svm_f1_score)\n",
        "print(\"Confusion Matrix:\\n\", svm_confusion)\n",
        "print(\"Classification Report:\\n\", svm_classification_report)"
      ]
    },
    {
      "cell_type": "markdown",
      "id": "7b16d385",
      "metadata": {
        "id": "7b16d385"
      },
      "source": [
        "The Support Vector Machine (SVM) Classifier performed even better, achieving an accuracy of approximately 95.12% on the test data."
      ]
    },
    {
      "cell_type": "markdown",
      "id": "e7838a90",
      "metadata": {
        "id": "e7838a90"
      },
      "source": [
        "# Logistic Regression classifier"
      ]
    },
    {
      "cell_type": "code",
      "execution_count": null,
      "id": "74065f4c",
      "metadata": {
        "id": "74065f4c",
        "outputId": "403c1f94-a2af-43f8-bb5c-5d41d53a8c3f"
      },
      "outputs": [
        {
          "name": "stdout",
          "output_type": "stream",
          "text": [
            "Accuracy: 0.9528535980148883\n",
            "Precision: 0.9020979020979021\n",
            "Recall: 0.9626865671641791\n",
            "F1 Score: 0.9314079422382671\n",
            "Confusion Matrix:\n",
            " [[765  42]\n",
            " [ 15 387]]\n",
            "Classification Report:\n",
            "               precision    recall  f1-score   support\n",
            "\n",
            "           0       0.98      0.95      0.96       807\n",
            "           1       0.90      0.96      0.93       402\n",
            "\n",
            "    accuracy                           0.95      1209\n",
            "   macro avg       0.94      0.96      0.95      1209\n",
            "weighted avg       0.95      0.95      0.95      1209\n",
            "\n"
          ]
        }
      ],
      "source": [
        "from sklearn.linear_model import LogisticRegression\n",
        "\n",
        "logistic_classifier = LogisticRegression(max_iter=1000)\n",
        "logistic_classifier.fit(X_train, y_train)\n",
        "\n",
        "logistic_predictions = logistic_classifier.predict(X_test)\n",
        "\n",
        "logistic_accuracy = accuracy_score(y_test, logistic_predictions)\n",
        "logistic_classification_report = classification_report(y_test, logistic_predictions)\n",
        "\n",
        "logistic_accuracy, logistic_classification_report\n",
        "\n",
        "logistic_accuracy = accuracy_score(y_test, logistic_predictions)\n",
        "logistic_precision = precision_score(y_test, logistic_predictions)\n",
        "logistic_recall = recall_score(y_test, logistic_predictions)\n",
        "logistic_f1_score = f1_score(y_test, logistic_predictions)\n",
        "logistic_confusion = confusion_matrix(y_test, logistic_predictions)\n",
        "logistic_classification_report = classification_report(y_test, logistic_predictions)\n",
        "\n",
        "\n",
        "logistic_auc = auc(fpr, tpr)\n",
        "\n",
        "print(\"Accuracy:\", logistic_accuracy)\n",
        "print(\"Precision:\", logistic_precision)\n",
        "print(\"Recall:\", logistic_recall)\n",
        "print(\"F1 Score:\", logistic_f1_score)\n",
        "print(\"Confusion Matrix:\\n\", logistic_confusion)\n",
        "print(\"Classification Report:\\n\", logistic_classification_report)\n"
      ]
    },
    {
      "cell_type": "markdown",
      "id": "f2a3fe8c",
      "metadata": {
        "id": "f2a3fe8c"
      },
      "source": [
        "#The Logistic Regression classifier achieved an accuracy of approximately 95.29% on the test data"
      ]
    },
    {
      "cell_type": "markdown",
      "id": "526310e1",
      "metadata": {
        "id": "526310e1"
      },
      "source": [
        "# Gradient Boosting Classifier"
      ]
    },
    {
      "cell_type": "code",
      "execution_count": null,
      "id": "58f44849",
      "metadata": {
        "id": "58f44849",
        "outputId": "cfd80ad6-8fde-4ca7-a572-167bb8ae7a93"
      },
      "outputs": [
        {
          "name": "stdout",
          "output_type": "stream",
          "text": [
            "Accuracy: 0.9429280397022333\n",
            "Precision: 0.8899297423887588\n",
            "Recall: 0.945273631840796\n",
            "F1 Score: 0.916767189384801\n",
            "Confusion Matrix:\n",
            " [[760  47]\n",
            " [ 22 380]]\n",
            "Classification Report:\n",
            "               precision    recall  f1-score   support\n",
            "\n",
            "           0       0.97      0.94      0.96       807\n",
            "           1       0.89      0.95      0.92       402\n",
            "\n",
            "    accuracy                           0.94      1209\n",
            "   macro avg       0.93      0.94      0.94      1209\n",
            "weighted avg       0.94      0.94      0.94      1209\n",
            "\n"
          ]
        }
      ],
      "source": [
        "from sklearn.ensemble import GradientBoostingClassifier\n",
        "\n",
        "gbm_classifier = GradientBoostingClassifier()\n",
        "gbm_classifier.fit(X_train, y_train)\n",
        "\n",
        "gbm_predictions = gbm_classifier.predict(X_test)\n",
        "\n",
        "gbm_accuracy = accuracy_score(y_test, gbm_predictions)\n",
        "gbm_precision = precision_score(y_test, gbm_predictions)\n",
        "gbm_recall = recall_score(y_test, gbm_predictions)\n",
        "gbm_f1_score = f1_score(y_test, gbm_predictions)\n",
        "gbm_confusion = confusion_matrix(y_test, gbm_predictions)\n",
        "gbm_classification_report = classification_report(y_test, gbm_predictions)\n",
        "\n",
        "print(\"Accuracy:\", gbm_accuracy)\n",
        "print(\"Precision:\", gbm_precision)\n",
        "print(\"Recall:\", gbm_recall)\n",
        "print(\"F1 Score:\", gbm_f1_score)\n",
        "print(\"Confusion Matrix:\\n\", gbm_confusion)\n",
        "print(\"Classification Report:\\n\", gbm_classification_report)\n"
      ]
    },
    {
      "cell_type": "markdown",
      "id": "f3a8809a",
      "metadata": {
        "id": "f3a8809a"
      },
      "source": [
        "#The Gradient Boosting Machine (GBM) classifier achieved an accuracy of approximately 94.21% on the test data."
      ]
    },
    {
      "cell_type": "markdown",
      "id": "1db49f61",
      "metadata": {
        "id": "1db49f61"
      },
      "source": [
        "# Random Forest classifier"
      ]
    },
    {
      "cell_type": "code",
      "execution_count": null,
      "id": "0d67d06e",
      "metadata": {
        "id": "0d67d06e",
        "outputId": "811d19e3-8041-4a21-81fe-842636c3e12b"
      },
      "outputs": [
        {
          "name": "stdout",
          "output_type": "stream",
          "text": [
            "Accuracy: 0.9528535980148883\n",
            "Precision: 0.9020979020979021\n",
            "Recall: 0.9626865671641791\n",
            "F1 Score: 0.9314079422382671\n",
            "Confusion Matrix:\n",
            " [[765  42]\n",
            " [ 15 387]]\n",
            "Classification Report:\n",
            "               precision    recall  f1-score   support\n",
            "\n",
            "           0       0.98      0.95      0.96       807\n",
            "           1       0.90      0.96      0.93       402\n",
            "\n",
            "    accuracy                           0.95      1209\n",
            "   macro avg       0.94      0.96      0.95      1209\n",
            "weighted avg       0.95      0.95      0.95      1209\n",
            "\n"
          ]
        }
      ],
      "source": [
        "from sklearn.ensemble import RandomForestClassifier\n",
        "\n",
        "random_forest_classifier = RandomForestClassifier()\n",
        "random_forest_classifier.fit(X_train, y_train)\n",
        "\n",
        "rf_predictions = random_forest_classifier.predict(X_test)\n",
        "\n",
        "rf_accuracy = accuracy_score(y_test, rf_predictions)\n",
        "rf_classification_report = classification_report(y_test, rf_predictions)\n",
        "\n",
        "rf_accuracy, rf_classification_report\n",
        "\n",
        "rf_accuracy = accuracy_score(y_test, rf_predictions)\n",
        "rf_precision = precision_score(y_test, rf_predictions)\n",
        "rf_recall = recall_score(y_test, rf_predictions)\n",
        "rf_f1_score = f1_score(y_test, rf_predictions)\n",
        "rf_confusion = confusion_matrix(y_test, rf_predictions)\n",
        "rf_classification_report = classification_report(y_test, rf_predictions)\n",
        "\n",
        "\n",
        "# Print all evaluation metrics\n",
        "print(\"Accuracy:\", rf_accuracy)\n",
        "print(\"Precision:\", rf_precision)\n",
        "print(\"Recall:\", rf_recall)\n",
        "print(\"F1 Score:\", rf_f1_score)\n",
        "print(\"Confusion Matrix:\\n\", rf_confusion)\n",
        "print(\"Classification Report:\\n\", rf_classification_report)\n"
      ]
    },
    {
      "cell_type": "markdown",
      "id": "c76804ff",
      "metadata": {
        "id": "c76804ff"
      },
      "source": [
        "#The Random Forest Classifier achieved an accuracy of approximately 95.37% on the test data."
      ]
    },
    {
      "cell_type": "markdown",
      "id": "80a0b7ed",
      "metadata": {
        "id": "80a0b7ed"
      },
      "source": [
        "#Overall, all five models showed good predictive abilities, with Logistic Regression and Random Forest performing slightly better in terms of overall accuracy."
      ]
    },
    {
      "cell_type": "code",
      "execution_count": null,
      "id": "a0ae3687",
      "metadata": {
        "id": "a0ae3687"
      },
      "outputs": [],
      "source": []
    },
    {
      "cell_type": "code",
      "execution_count": null,
      "id": "5c0f1504",
      "metadata": {
        "id": "5c0f1504"
      },
      "outputs": [],
      "source": []
    }
  ],
  "metadata": {
    "kernelspec": {
      "display_name": "Python 3 (ipykernel)",
      "language": "python",
      "name": "python3"
    },
    "language_info": {
      "codemirror_mode": {
        "name": "ipython",
        "version": 3
      },
      "file_extension": ".py",
      "mimetype": "text/x-python",
      "name": "python",
      "nbconvert_exporter": "python",
      "pygments_lexer": "ipython3",
      "version": "3.11.5"
    },
    "colab": {
      "provenance": [],
      "include_colab_link": true
    }
  },
  "nbformat": 4,
  "nbformat_minor": 5
}